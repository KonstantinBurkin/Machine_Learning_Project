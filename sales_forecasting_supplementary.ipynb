{
  "nbformat": 4,
  "nbformat_minor": 0,
  "metadata": {
    "colab": {
      "name": "sales_forecasting_supplementary.ipynb",
      "provenance": [],
      "collapsed_sections": [],
      "authorship_tag": "ABX9TyNmEhVD8dv0pz6ftO5K5NIs",
      "include_colab_link": true
    },
    "kernelspec": {
      "name": "python3",
      "display_name": "Python 3"
    },
    "language_info": {
      "name": "python"
    }
  },
  "cells": [
    {
      "cell_type": "markdown",
      "metadata": {
        "id": "view-in-github",
        "colab_type": "text"
      },
      "source": [
        "<a href=\"https://colab.research.google.com/github/KonstantinBurkin/Machine_Learning_Project/blob/main/sales_forecasting_supplementary.ipynb\" target=\"_parent\"><img src=\"https://colab.research.google.com/assets/colab-badge.svg\" alt=\"Open In Colab\"/></a>"
      ]
    },
    {
      "cell_type": "code",
      "execution_count": null,
      "metadata": {
        "id": "skdVItDbAGQO"
      },
      "outputs": [],
      "source": [
        "# for embedding plotly graphs\n",
        "# plotly.offline.init_notebook_mode(connected=True)"
      ]
    },
    {
      "cell_type": "code",
      "source": [
        "from google.colab import drive\n",
        "import IPython"
      ],
      "metadata": {
        "id": "17qhKW0gVrRA"
      },
      "execution_count": null,
      "outputs": []
    },
    {
      "cell_type": "code",
      "source": [
        "drive.mount('/content/gdrive')"
      ],
      "metadata": {
        "id": "3apdq7ThWUqA"
      },
      "execution_count": null,
      "outputs": []
    },
    {
      "cell_type": "code",
      "source": [
        "%%shell\n",
        "jupyter nbconvert /content/gdrive/MyDrive/'Colab Notebooks'/sales_forecasting.ipynb  --to html --no-input --template basic --output-dir='/content'\n",
        "\n",
        "# generate html from ipynb \n",
        "# --no-input for hiding code"
      ],
      "metadata": {
        "colab": {
          "base_uri": "https://localhost:8080/"
        },
        "id": "Qel6WBWEUdVq",
        "outputId": "cd54284d-a962-4fff-80d2-bb0b74fcb16f"
      },
      "execution_count": null,
      "outputs": [
        {
          "output_type": "stream",
          "name": "stdout",
          "text": [
            "[NbConvertApp] Converting notebook /content/gdrive/MyDrive/Colab Notebooks/sales_forecasting.ipynb to html\n",
            "[NbConvertApp] Writing 348426 bytes to /content/sales_forecasting.html\n"
          ]
        },
        {
          "output_type": "execute_result",
          "data": {
            "text/plain": [
              ""
            ]
          },
          "metadata": {},
          "execution_count": 13
        }
      ]
    },
    {
      "cell_type": "code",
      "source": [
        "# show generated html below\n",
        "IPython.display.HTML(filename='./sales_forecasting.html')"
      ],
      "metadata": {
        "id": "N9IRPNFOUdwv"
      },
      "execution_count": null,
      "outputs": []
    },
    {
      "cell_type": "code",
      "source": [
        "# add this code at the top of generated html file\n",
        "\n",
        "<html>\n",
        "  <head>\n",
        "    <title>Sales Forecasting</title>\n",
        "    <style>\n",
        "      @import url('https://fonts.googleapis.com/css2?family=Nunito:ital,wght@0,400;0,500;0,600;1,400&display=swap');\n",
        "      @media screen and (min-width:1000px) {\n",
        "      body{\n",
        "            margin-left: 20vh; \n",
        "            margin-right: 20vh;\n",
        "            font-size: 18px;\n",
        "            font-family: 'Nunito', sans-serif;\n",
        "                  }}\n",
        "      @media screen and (max-width:1000px) {\n",
        "        body{\n",
        "            margin-left: 2vh; \n",
        "            margin-right: 2vh;\n",
        "            font-size: 30px;\n",
        "            font-family: 'Nunito', sans-serif;\n",
        "                  }\n",
        "              }\n",
        "      @media screen and (min-width:1800px) {\n",
        "        body{\n",
        "            margin-left: 30vh; \n",
        "            margin-right: 30vh;\n",
        "            font-size: 18px;\n",
        "            font-family: 'Nunito', sans-serif;\n",
        "                  }\n",
        "              }\n",
        "    </style>\n",
        "  </head>"
      ],
      "metadata": {
        "id": "zGwr0PRWUfby"
      },
      "execution_count": null,
      "outputs": []
    },
    {
      "cell_type": "code",
      "source": [
        ""
      ],
      "metadata": {
        "id": "KR3ET8SxUib8"
      },
      "execution_count": null,
      "outputs": []
    }
  ]
}